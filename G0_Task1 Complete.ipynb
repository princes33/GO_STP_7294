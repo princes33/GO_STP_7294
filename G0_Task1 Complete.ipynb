{
  "nbformat": 4,
  "nbformat_minor": 0,
  "metadata": {
    "colab": {
      "name": "G0_Task1.ipynb",
      "provenance": [],
      "collapsed_sections": []
    },
    "kernelspec": {
      "name": "python3",
      "display_name": "Python 3"
    },
    "language_info": {
      "name": "python"
    }
  },
  "cells": [
    {
      "cell_type": "markdown",
      "metadata": {
        "id": "Fg4EIOQsHt_1"
      },
      "source": [
        "We are having 3 list like this\n",
        "Colors = [“Yellow”,”Green”,”White”,”Black”]\n",
        "Fruits=[“Apple”,”Papaya”,”Mango”,”Orange”]\n",
        "Animals=[“Tiger”,”Lion”,”Deer”,”Zebra”]]\n",
        "\n",
        "i. Write a program that asks user to enter a Color/Fruit/Animal name and it should tell which category belongs to , like its is a fruit or color or Animal"
      ]
    },
    {
      "cell_type": "code",
      "metadata": {
        "colab": {
          "base_uri": "https://localhost:8080/"
        },
        "id": "3ugYvmISGQbu",
        "outputId": "e1e2d167-fa6b-4dd8-b605-879e91c3826c"
      },
      "source": [
        "Colors = [\"Yellow\",\"Green\",\"White\",\"Black\"]\n",
        "Fruits=[\"Apple\",\"Papaya\",\"Mango\",\"Orange\"]\n",
        "Animals=[\"Tiger\",\"Lion\",\"Deer\",\"Zebra\"]\n",
        "x=input(\"enter the color or fruit or animal :\")\n",
        "if x in Colors:\n",
        "  print(\"its a color\")\n",
        "elif x in Fruits:\n",
        "  print(\"its a Fruits\")\n",
        "else:\n",
        "  print(\"its an Animal\")\n"
      ],
      "execution_count": null,
      "outputs": [
        {
          "output_type": "stream",
          "text": [
            "enter the color or fruit or animal :Apple\n",
            "its a Fruits\n"
          ],
          "name": "stdout"
        }
      ]
    },
    {
      "cell_type": "markdown",
      "metadata": {
        "id": "cPjd7fNuMDOh"
      },
      "source": [
        "ii. Write a program that asks user to enter two items and it tells you if they both are in same category or not. For example if I enter yellow and Black, it will print \"Both are colors\" but if I enter yellow and Tiger it should print \"They don't belong to same category\""
      ]
    },
    {
      "cell_type": "code",
      "metadata": {
        "colab": {
          "base_uri": "https://localhost:8080/",
          "height": 0
        },
        "id": "VUrbu0XiMCry",
        "outputId": "0f774ce8-3b54-45ec-8e43-5e5544cf6d9d"
      },
      "source": [
        "m=input(\"enter item 1 :\")\n",
        "n=input(\"enter item 2 :\")\n",
        "if m in Colors and n in Colors:\n",
        "  print(\"Both are Colors\")\n",
        "elif m in Fruits and n in Fruits:\n",
        "  print(\"both are Fruits\")\n",
        "else:\n",
        "    print(\"Both belongs not the same category\")\n"
      ],
      "execution_count": 42,
      "outputs": [
        {
          "output_type": "stream",
          "text": [
            "enter item 1 :Yellow\n",
            "enter item 2 :Apple\n",
            "Both belongs not the same category\n"
          ],
          "name": "stdout"
        }
      ]
    },
    {
      "cell_type": "markdown",
      "metadata": {
        "id": "0i6EVIAcXzez"
      },
      "source": [
        "2.  Write a python program that can tell you if your grade score good or not . Normal Score range is 40 to 60.\n",
        "i. Ask user to enter his score.\n",
        "ii. If it is below 40 to 60 range then print that score is low\n",
        "iii. If it is above 60 then print that it is good otherwise print that it is normal"
      ]
    },
    {
      "cell_type": "code",
      "metadata": {
        "id": "iBrWlTmHQDPx",
        "colab": {
          "base_uri": "https://localhost:8080/",
          "height": 0
        },
        "outputId": "cf37641c-0b54-4e4d-e882-550ee7a0e14c"
      },
      "source": [
        "score=int(input(\"ente the score obtained :\"))\n",
        "if score > 60:\n",
        "  print(\"score obtaibed is\",score,\"Remarks:Good\")\n",
        "elif score < 40:\n",
        "  print(\"score obtaibed is\",score,\"Remarks:bad\")\n",
        "else:\n",
        "  print(\"score obtaibed is\",score,\"Remaks:Average\")\n"
      ],
      "execution_count": 47,
      "outputs": [
        {
          "output_type": "stream",
          "text": [
            "ente the score obtained :50\n",
            "score obtaibed is 50 Remaks:Average\n"
          ],
          "name": "stdout"
        }
      ]
    },
    {
      "cell_type": "markdown",
      "metadata": {
        "id": "Q9e32EUhaX7E"
      },
      "source": [
        "After appearing in exam 10 times you got this result,\n",
        "result = [\"Pass\",\"Fail\",\"Fail\",\"Pass\",\"Fail\",\"Pass\",\"Pass\",\"Fail\",\"Fail\",\"Fail\"]\n",
        "Using for loop figure out how many times you got Pass"
      ]
    },
    {
      "cell_type": "code",
      "metadata": {
        "colab": {
          "base_uri": "https://localhost:8080/",
          "height": 0
        },
        "id": "YjSEC_GiamJS",
        "outputId": "e41b68a3-5e84-42c3-9de1-732ead578f8a"
      },
      "source": [
        "result = [\"Pass\",\"Fail\",\"Fail\",\"Pass\",\"Fail\",\"Pass\",\"Pass\",\"Fail\",\"Fail\",\"Fail\"]\n",
        "count=0\n",
        "i=0\n",
        "for i in result :\n",
        "  if i==\"Pass\":\n",
        "    count+=1\n",
        "print(\"You have passsed\",count,\"times\")\n",
        "  \n",
        "\n",
        "    \n"
      ],
      "execution_count": 13,
      "outputs": [
        {
          "output_type": "stream",
          "text": [
            "You have passsed 4 times\n"
          ],
          "name": "stdout"
        }
      ]
    },
    {
      "cell_type": "markdown",
      "metadata": {
        "id": "ZH_KSWzuebyy"
      },
      "source": [
        "4.  Write a program that prints following shape\n",
        "\n",
        "*\n",
        "* *\n",
        "* * *\n",
        "* * * *\n",
        "* * * * *\n",
        "* * * *\n",
        "* * *\n",
        "* *\n",
        "*"
      ]
    },
    {
      "cell_type": "code",
      "metadata": {
        "colab": {
          "base_uri": "https://localhost:8080/",
          "height": 0
        },
        "id": "0mtTkG-wek5o",
        "outputId": "fee77952-6d78-475b-f725-1cdb89dd8341"
      },
      "source": [
        "r=int(input(\"rows\"))\n",
        "for i in range(0,r):\n",
        "  for j in range(0,i+1):\n",
        "    print(\"*\",end=\"\")\n",
        "  print()\n",
        "for i in range(r+1,0,-1):\n",
        "  for j in range(1,i-1):\n",
        "    print(\"*\",end=\"\")\n",
        "  print()\n"
      ],
      "execution_count": 35,
      "outputs": [
        {
          "output_type": "stream",
          "text": [
            "rows5\n",
            "*\n",
            "**\n",
            "***\n",
            "****\n",
            "*****\n",
            "****\n",
            "***\n",
            "**\n",
            "*\n",
            "\n",
            "\n"
          ],
          "name": "stdout"
        }
      ]
    },
    {
      "cell_type": "markdown",
      "metadata": {
        "id": "aAZ0V9qakKhf"
      },
      "source": [
        "Lets say you are running a 50 km race. Write a program that,\n",
        "\n",
        "Upon completing each 10 km asks you \"are you tired?\"\n",
        "If you reply \"yes\" then it should break and print \"you didn't finish the race\"\n",
        " If you reply \"no\" then it should continue and ask \"are you tired\" on every km\n",
        "If you finish all 50 km then it should print congratulations message"
      ]
    },
    {
      "cell_type": "code",
      "metadata": {
        "colab": {
          "base_uri": "https://localhost:8080/",
          "height": 0
        },
        "id": "-ln6JktnkPMP",
        "outputId": "04450746-dd4c-4377-84f9-1df928575e6a"
      },
      "source": [
        "flag = 0\n",
        "for i in range(1,51):\n",
        "    if i%10 == 0:\n",
        "      n = input(\"Are you tired? :\")\n",
        "      if n == \"yes\" or n==\"YES\":\n",
        "        print(\"You didn't finish the race\")\n",
        "        flag =1\n",
        "        break\n",
        "      elif n == \"NO\" or n==\"no\":\n",
        "          continue\n",
        "if flag == 0:\n",
        "  print(\"Congratulations!! You finished the race\")"
      ],
      "execution_count": 50,
      "outputs": [
        {
          "output_type": "stream",
          "text": [
            "Are you tired?yes\n",
            "You didn't finish the race\n"
          ],
          "name": "stdout"
        }
      ]
    },
    {
      "cell_type": "markdown",
      "metadata": {
        "id": "tKsUdgSgrz2B"
      },
      "source": [
        "7.   Print square of all numbers between 10 to 20 except even numbers"
      ]
    },
    {
      "cell_type": "code",
      "metadata": {
        "colab": {
          "base_uri": "https://localhost:8080/",
          "height": 0
        },
        "id": "siRZCHH5r26q",
        "outputId": "310c3f0f-a56a-4a2f-ee4c-180bbff5a883"
      },
      "source": [
        "for a in range(10,21):\n",
        "  if a%2==1:\n",
        "    print(a**2)"
      ],
      "execution_count": 52,
      "outputs": [
        {
          "output_type": "stream",
          "text": [
            "121\n",
            "169\n",
            "225\n",
            "289\n",
            "361\n"
          ],
          "name": "stdout"
        }
      ]
    },
    {
      "cell_type": "markdown",
      "metadata": {
        "id": "VKGzcKW-sSyo"
      },
      "source": [
        "8.  Your Marks for five Test(test1 to test5) looks like this marks_list = [65, 75, 2100, 95, 83] Write a program that asks you to enter marks and program should tell you in which test that marks occurred. If marks is not found then it should print that as well."
      ]
    },
    {
      "cell_type": "code",
      "metadata": {
        "colab": {
          "base_uri": "https://localhost:8080/",
          "height": 0
        },
        "id": "XkKhCKjSsRwL",
        "outputId": "ada5e1d9-ee43-483c-afdc-ac56f93f955b"
      },
      "source": [
        "\n",
        "marks= [65, 75, 21, 95, 83]\n",
        "p=int(input(\"enter the marks :\"))\n",
        "test=marks.index(p)+1\n",
        "if p in marks:\n",
        "  print(\"you have scored\",p,\"on test\",test)\n",
        "  print(test)\n",
        "else:\n",
        "  print(\"Marks not found\")\n"
      ],
      "execution_count": 83,
      "outputs": [
        {
          "output_type": "stream",
          "text": [
            "enter the marks :95\n",
            "you have scored 95 on test 4\n",
            "4\n"
          ],
          "name": "stdout"
        }
      ]
    }
  ]
}