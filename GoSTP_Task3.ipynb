{
  "nbformat": 4,
  "nbformat_minor": 0,
  "metadata": {
    "colab": {
      "name": "GoSTP_Task3.ipynb",
      "provenance": []
    },
    "kernelspec": {
      "name": "python3",
      "display_name": "Python 3"
    },
    "language_info": {
      "name": "python"
    }
  },
  "cells": [
    {
      "cell_type": "markdown",
      "metadata": {
        "id": "6D3yvs9tPIMY"
      },
      "source": [
        "**GOEDUHUB TECHNOLOGIES ONLINE TRAINING TASK 3**\n",
        "# *GO_STP_7294*\n",
        "# TASK3 \n"
      ]
    },
    {
      "cell_type": "markdown",
      "metadata": {
        "id": "lPvACdbEIZAJ"
      },
      "source": [
        "Q.1 Write a Python Program to sort (ascending and descending) a dictionary by value. "
      ]
    },
    {
      "cell_type": "code",
      "metadata": {
        "colab": {
          "base_uri": "https://localhost:8080/"
        },
        "id": "YQsJeOrfIGkW",
        "outputId": "153e6d04-d79a-4766-a85c-4491511ca843"
      },
      "source": [
        "import operator\n",
        "dic = {\"hello\":1, \"go\":2, \"edu\":3, \"hub\":4, \"python\":5}\n",
        "print('Given Dictionary : ',dic)\n",
        "sorted_dic = sorted(dic.items(), key=operator.itemgetter(1))\n",
        "print('Dictionary in ascending order by value : ',sorted_dic)\n",
        "sorted_dic = dict( sorted(dic.items(), key=operator.itemgetter(1),reverse=True))\n",
        "print('Dictionary in descending order by value : ',sorted_dic)"
      ],
      "execution_count": 5,
      "outputs": [
        {
          "output_type": "stream",
          "text": [
            "Given Dictionary :  {'hello': 1, 'go': 2, 'edu': 3, 'hub': 4, 'python': 5}\n",
            "Dictionary in ascending order by value :  [('hello', 1), ('go', 2), ('edu', 3), ('hub', 4), ('python', 5)]\n",
            "Dictionary in descending order by value :  {'python': 5, 'hub': 4, 'edu': 3, 'go': 2, 'hello': 1}\n"
          ],
          "name": "stdout"
        }
      ]
    },
    {
      "cell_type": "markdown",
      "metadata": {
        "id": "06wBSCqoKDvf"
      },
      "source": [
        "Q.2 Write a Python Program to add a key to a dictionary. \n",
        "Sample Dictionary : {0: 10, 1: 20}\n",
        "Expected Result : {0: 10, 1: 20, 2: 30}"
      ]
    },
    {
      "cell_type": "code",
      "metadata": {
        "colab": {
          "base_uri": "https://localhost:8080/"
        },
        "id": "LMjNU_4QKGT9",
        "outputId": "40aab9e2-f811-4683-f2d3-1354ed6b8be5"
      },
      "source": [
        "d={0: 10, 1: 20}\n",
        "print(\"Current Dictionary is :\",d)\n",
        "d.update({2:30})\n",
        "print(\"Updated Dictionary is :\",d)\n"
      ],
      "execution_count": 9,
      "outputs": [
        {
          "output_type": "stream",
          "text": [
            "Current Dictionary is : {0: 10, 1: 20}\n",
            "Updated Dictionary is : {0: 10, 1: 20, 2: 30}\n"
          ],
          "name": "stdout"
        }
      ]
    },
    {
      "cell_type": "markdown",
      "metadata": {
        "id": "A6kxcBGBLMd_"
      },
      "source": [
        "Q.3 Write a  program asks for City name and Temperature and builds a dictionary using that Later on you can input City name and it will tell you the Temperature of that City."
      ]
    },
    {
      "cell_type": "code",
      "metadata": {
        "colab": {
          "base_uri": "https://localhost:8080/"
        },
        "id": "bHPVZTMFLNaA",
        "outputId": "b35d42c4-bad4-490d-9852-a2127883c793"
      },
      "source": [
        "temp = dict()\n",
        "city_No=int(input(\"enter the number of cities ?\"))\n",
        "for i in range(city_No):\n",
        " city=input(\"Enter city %d name :\" % (i+1))\n",
        " temperature=float(input(\"Enter its temperature :\"))\n",
        " temp[city]=temperature\n",
        "need = input(\"Enter the city to see it's temperature : \")\n",
        "print(\"Temperature in %s is %.2f °F\" % (need,temp[need]))"
      ],
      "execution_count": 2,
      "outputs": [
        {
          "output_type": "stream",
          "text": [
            "enter the number of cities ?2\n",
            "Enter city 1 name :kl\n",
            "Enter its temperature :2\n",
            "Enter city 2 name :tn\n",
            "Enter its temperature :8\n",
            "Enter the city to see it's temperature : tn\n",
            "Temperature in tn is 8.00 °F\n"
          ],
          "name": "stdout"
        }
      ]
    },
    {
      "cell_type": "markdown",
      "metadata": {
        "id": "mUXY6c_1Nrqo"
      },
      "source": [
        "Q. 4 Write a Python program to convert list to list of dictionaries.\n",
        "\n",
        "Sample lists: [\"Black\", \"Red\", \"Maroon\", \"Yellow\"], [\"#000000\", \"#FF0000\", \"#800000\", \"#FFFF00\"]\n",
        "\n",
        "Expected Output: [{'color_name': 'Black', 'color_code': '#000000'}, {'color_name': 'Red', 'color_code': '#FF0000'}, {'color_name': 'Maroon', 'color_code': '#800000'}, {'color_name': 'Yellow', 'color_code': '#FFFF00'}]"
      ]
    },
    {
      "cell_type": "code",
      "metadata": {
        "colab": {
          "base_uri": "https://localhost:8080/"
        },
        "id": "N-osGjkwNsxW",
        "outputId": "6c315b11-36bf-457f-88d1-9de65b6d07eb"
      },
      "source": [
        "l1=[\"Black\", \"Red\", \"Maroon\", \"Yellow\"]\n",
        "l2=[\"#000000\", \"#FF0000\", \"#800000\", \"#FFFF00\"]\n",
        "d=dict(zip(l1,l2))\n",
        "print(d)"
      ],
      "execution_count": 3,
      "outputs": [
        {
          "output_type": "stream",
          "text": [
            "{'Black': '#000000', 'Red': '#FF0000', 'Maroon': '#800000', 'Yellow': '#FFFF00'}\n"
          ],
          "name": "stdout"
        }
      ]
    },
    {
      "cell_type": "markdown",
      "metadata": {
        "id": "IXexC_pYOvmX"
      },
      "source": [
        "5 We have following information on Employees and their Salary (Salary is in lakhs),\n",
        "Employee Salary\n",
        "John 14\n",
        "Smith 13\n",
        "Alice 32\n",
        "Daneil 21\n",
        "1. Using above create a dictionary of Employees and their Salary\n",
        "2. Write a program that asks user for three type of inputs,\n",
        "a. print: if user enter print then it should print all Employees with their Salary in this\n",
        "format,\n",
        "1. John ==>14\n",
        "2. Smith ==>13\n",
        "3. Alice ==>32\n",
        "4. Daneil ==>21\n",
        "b. add: if user input adds then it should further ask for an Employee name to add. If\n",
        "Employee already exists in our dataset then it should print that it exists and donothing. If it doesn't then it asks for Salary and add that new Employee/Salary in our\n",
        "dictionary and print it\n",
        "c. remove: when user inputs remove it should ask for an Employee to remove. If an\n",
        "Employee exists in our dictionary then remove it and print a new dictionary using\n",
        "format shown above in (a). Else print that Employee doesn't exist!\n",
        "d. query: on this again ask the user for which Employee he or she wants to query.\n",
        "When a user inputs that Employee it will print the Salary of that Employee."
      ]
    },
    {
      "cell_type": "markdown",
      "metadata": {
        "id": "Xu_SbhH6KFhu"
      },
      "source": [
        ""
      ]
    },
    {
      "cell_type": "code",
      "metadata": {
        "colab": {
          "base_uri": "https://localhost:8080/"
        },
        "id": "xiGO2rliPp-W",
        "outputId": "21a60686-692c-434b-9ab0-452f14059a34"
      },
      "source": [
        "salary={'Julie':55,'Reshma':13,'Ramesh':30,'Fredy':33}\n",
        "print(salary)\n",
        "choice=input(\"Enter the choice 'print' or 'add' or 'remove' or 'query':\")\n",
        "if choice==\"print\":\n",
        " for i in salary:\n",
        "   print(i,'==>',salary[i])\n",
        "elif choice==\"add\":\n",
        " x=input(\"Enter the Name:\")\n",
        " if x in salary:\n",
        "   print(\"this Employee is exist\")\n",
        " else:\n",
        "  y=input(\"Enter the salary:\")\n",
        " salary[x] = y\n",
        " for i in salary:\n",
        "     print(i,'==>',salary[i])\n",
        "elif choice==\"remove\":\n",
        " x=input(\"Which Name:\")\n",
        " if x in salary:\n",
        "  del salary[x]\n",
        "  for i in salary:\n",
        "    print(i,'==>',salary[i])\n",
        " else:\n",
        "    print(\"this Employee doesn't exist\")\n",
        "elif choice==\"query\":\n",
        " x=input(\"Enter the Name:\")\n",
        " print(x,'==>',salary[x])"
      ],
      "execution_count": 24,
      "outputs": [
        {
          "output_type": "stream",
          "text": [
            "{'Julie': 55, 'Reshma': 13, 'Ramesh': 30, 'Fredy': 33}\n",
            "Enter the choice 'print' or 'add' or 'remove' or 'query':add\n",
            "Enter the Name:Kiran\n",
            "Enter the salary:77\n",
            "Julie ==> 55\n",
            "Reshma ==> 13\n",
            "Ramesh ==> 30\n",
            "Fredy ==> 33\n",
            "Kiran ==> 77\n"
          ],
          "name": "stdout"
        }
      ]
    },
    {
      "cell_type": "markdown",
      "metadata": {
        "id": "BqXo24J-Stvv"
      },
      "source": [
        "\n",
        "\n",
        "\n",
        "---\n",
        "\n",
        "\n",
        "\n",
        "---\n",
        "\n",
        "\n",
        "\n"
      ]
    },
    {
      "cell_type": "markdown",
      "metadata": {
        "id": "L1AM3P-YS8Fw"
      },
      "source": [
        "# **Questions on Sets**"
      ]
    },
    {
      "cell_type": "markdown",
      "metadata": {
        "id": "s2-ykOW-S2z2"
      },
      "source": [
        "Q.1 What is the difference between a set and a frozenset? Create any set and try to use\n",
        "frozenset(setname)."
      ]
    },
    {
      "cell_type": "markdown",
      "metadata": {
        "id": "DH1GLJ3PTEpg"
      },
      "source": [
        "Frozen set is an immutable version of a Python set object and can be used as keys in dictionary or used as elements of other set."
      ]
    },
    {
      "cell_type": "code",
      "metadata": {
        "id": "rfndPADRQB4P",
        "colab": {
          "base_uri": "https://localhost:8080/"
        },
        "outputId": "29120874-8035-4224-c32c-8a52d65cfecc"
      },
      "source": [
        "s1={11,22,33,\"hi\",44,\"goeduhub\"}\n",
        "print(\"type of s1\",type(s1))\n",
        "s2=frozenset(s1)\n",
        "print(\"type of s2\",type(s2))\n",
        "\n"
      ],
      "execution_count": 29,
      "outputs": [
        {
          "output_type": "stream",
          "text": [
            "type of s1 <class 'set'>\n",
            "type of s2 <class 'frozenset'>\n"
          ],
          "name": "stdout"
        }
      ]
    },
    {
      "cell_type": "markdown",
      "metadata": {
        "id": "T_UeG5kbUWd2"
      },
      "source": [
        "Q.2 Find the elements in a given set that are not in another set\n",
        "set1 = {10,20,30,40,50},\n",
        "set2 = {40,50,60,70,80},\n",
        "Difference between set1 and set2 is {10,20,30}"
      ]
    },
    {
      "cell_type": "code",
      "metadata": {
        "colab": {
          "base_uri": "https://localhost:8080/"
        },
        "id": "YbCdDZc_Uhu2",
        "outputId": "1ca51e83-950f-4ac1-aad1-e5f2ea1f3c67"
      },
      "source": [
        "set1 = {10,20,30,40,50}\n",
        "set2 = {40,50,60,70,80}\n",
        "set3=set1.difference(set2)\n",
        "print(\"set 1 :\",set1)\n",
        "print(\"set 2 :\",set2)\n",
        "print(\"Difference between set1 and set2 is :\",set3)"
      ],
      "execution_count": 32,
      "outputs": [
        {
          "output_type": "stream",
          "text": [
            "set 1 : {40, 10, 50, 20, 30}\n",
            "set 2 : {70, 40, 80, 50, 60}\n",
            "Difference between set1 and set2 is : {10, 20, 30}\n"
          ],
          "name": "stdout"
        }
      ]
    }
  ]
}